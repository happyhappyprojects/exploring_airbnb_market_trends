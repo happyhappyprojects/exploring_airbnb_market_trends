{
 "cells": [
  {
   "cell_type": "markdown",
   "id": "c747d469-ee97-4b95-880f-feefd5456042",
   "metadata": {
    "id": "bA5ajAmk7XH6"
   },
   "source": [
    "There are three files in the data folder: airbnb_price.csv, airbnb_room_type.xlsx, airbnb_last_review.tsv.\n",
    "\n",
    "- What are the dates of the earliest and most recent reviews? Store these values as two separate variables with your preferred names.\n",
    "- How many of the listings are private rooms? Save this into any variable.\n",
    "\n",
    "- What is the average listing price? Round to the nearest two decimal places and save into a variable.\n",
    "\n",
    "- Combine the new variables into one DataFrame called **review_dates** with four columns in the following order: first_reviewed, last_reviewed, nb_private_rooms, and avg_price. The DataFrame should only contain one row of values."
   ]
  },
  {
   "cell_type": "code",
   "execution_count": 1,
   "id": "1fdc5784-479e-46cb-b05b-68439dcc94a7",
   "metadata": {
    "executionCancelledAt": null,
    "executionTime": 51,
    "lastExecutedAt": 1743112611228,
    "lastExecutedByKernel": "2100ad76-c5d1-418d-ba22-65c06edb85e6",
    "lastScheduledRunId": null,
    "lastSuccessfullyExecutedCode": "# Import necessary packages\nimport pandas as pd\nimport numpy as np"
   },
   "outputs": [],
   "source": [
    "# Import necessary packages\n",
    "import pandas as pd\n",
    "import numpy as np"
   ]
  },
  {
   "cell_type": "code",
   "execution_count": 2,
   "id": "4215de91-30e2-4de3-9f7c-b562ae79c817",
   "metadata": {
    "executionCancelledAt": null,
    "executionTime": null,
    "lastExecutedAt": null,
    "lastExecutedByKernel": null,
    "lastScheduledRunId": null,
    "lastSuccessfullyExecutedCode": null,
    "outputsMetadata": {
     "0": {
      "height": 249,
      "type": "stream"
     }
    }
   },
   "outputs": [
    {
     "name": "stdout",
     "output_type": "stream",
     "text": [
      "<class 'pandas.core.frame.DataFrame'>\n",
      "RangeIndex: 25209 entries, 0 to 25208\n",
      "Data columns (total 3 columns):\n",
      " #   Column       Non-Null Count  Dtype         \n",
      "---  ------       --------------  -----         \n",
      " 0   listing_id   25209 non-null  int64         \n",
      " 1   host_name    25201 non-null  object        \n",
      " 2   last_review  25209 non-null  datetime64[ns]\n",
      "dtypes: datetime64[ns](1), int64(1), object(1)\n",
      "memory usage: 591.0+ KB\n",
      "None\n"
     ]
    }
   ],
   "source": [
    "# Import reviews\n",
    "reviews = pd.read_csv('data/airbnb_last_review.tsv',parse_dates=['last_review'], sep='\\t')\n",
    "reviews.head()\n",
    "\n",
    "# Inspect info\n",
    "print(reviews.info())"
   ]
  },
  {
   "cell_type": "code",
   "execution_count": 3,
   "id": "1f2f7601-9c33-49e0-9ff4-95d538a26915",
   "metadata": {
    "executionCancelledAt": null,
    "executionTime": 49,
    "lastExecutedAt": 1743112611328,
    "lastExecutedByKernel": "2100ad76-c5d1-418d-ba22-65c06edb85e6",
    "lastScheduledRunId": null,
    "lastSuccessfullyExecutedCode": "# What are the earliest and most recent reviews?\nsorted_dates = reviews['last_review'].sort_values(ascending=True)\nearliest = sorted_dates.iloc[0]\nprint(f\"The earliest review is: {earliest}\")\n\nmost_recent = sorted_dates.iloc[-1]\nprint(f\"The most recent review is: {most_recent}\")",
    "outputsMetadata": {
     "0": {
      "height": 38,
      "type": "stream"
     }
    }
   },
   "outputs": [
    {
     "name": "stdout",
     "output_type": "stream",
     "text": [
      "The earliest review is: 2019-01-01 00:00:00\n",
      "The most recent review is: 2019-07-09 00:00:00\n"
     ]
    }
   ],
   "source": [
    "# What are the earliest and most recent reviews?\n",
    "sorted_dates = reviews['last_review'].sort_values(ascending=True)\n",
    "earliest = sorted_dates.iloc[0]\n",
    "print(f\"The earliest review is: {earliest}\")\n",
    "\n",
    "most_recent = sorted_dates.iloc[-1]\n",
    "print(f\"The most recent review is: {most_recent}\")"
   ]
  },
  {
   "cell_type": "code",
   "execution_count": 4,
   "id": "2d75b94c-b234-4129-b8b7-3a8f9120969f",
   "metadata": {
    "executionCancelledAt": null,
    "executionTime": 1536,
    "lastExecutedAt": 1743112612864,
    "lastExecutedByKernel": "2100ad76-c5d1-418d-ba22-65c06edb85e6",
    "lastScheduledRunId": null,
    "lastSuccessfullyExecutedCode": "# Import rooms\nrooms = pd.read_excel('data/airbnb_room_type.xlsx')\nprint(rooms.head(5))",
    "outputsMetadata": {
     "0": {
      "height": 143,
      "type": "stream"
     }
    }
   },
   "outputs": [
    {
     "name": "stdout",
     "output_type": "stream",
     "text": [
      "   listing_id                                description        room_type\n",
      "0        2595                      Skylit Midtown Castle  Entire home/apt\n",
      "1        3831            Cozy Entire Floor of Brownstone  Entire home/apt\n",
      "2        5099  Large Cozy 1 BR Apartment In Midtown East  Entire home/apt\n",
      "3        5178            Large Furnished Room Near B'way     private room\n",
      "4        5238         Cute & Cozy Lower East Side 1 bdrm  Entire home/apt\n"
     ]
    }
   ],
   "source": [
    "# Import rooms\n",
    "rooms = pd.read_excel('data/airbnb_room_type.xlsx')\n",
    "print(rooms.head(5))"
   ]
  },
  {
   "cell_type": "code",
   "execution_count": 5,
   "id": "94d870f9-45e8-49f3-8c9d-f6d9a0e3a3c4",
   "metadata": {
    "executionCancelledAt": null,
    "executionTime": 55,
    "lastExecutedAt": 1743112612920,
    "lastExecutedByKernel": "2100ad76-c5d1-418d-ba22-65c06edb85e6",
    "lastScheduledRunId": null,
    "lastSuccessfullyExecutedCode": "# Value counts\nprint(rooms['room_type'].value_counts(dropna=False))\n\n# Fix strings in 'room_type'\nrooms['room_type'] = rooms['room_type'].str.lower() \nprint(rooms['room_type'].value_counts(dropna=False))",
    "outputsMetadata": {
     "0": {
      "height": 311,
      "type": "stream"
     }
    }
   },
   "outputs": [
    {
     "name": "stdout",
     "output_type": "stream",
     "text": [
      "room_type\n",
      "Entire home/apt    8458\n",
      "Private room       7241\n",
      "entire home/apt    2665\n",
      "private room       2248\n",
      "ENTIRE HOME/APT    2143\n",
      "PRIVATE ROOM       1867\n",
      "Shared room         380\n",
      "shared room         110\n",
      "SHARED ROOM          97\n",
      "Name: count, dtype: int64\n",
      "room_type\n",
      "entire home/apt    13266\n",
      "private room       11356\n",
      "shared room          587\n",
      "Name: count, dtype: int64\n"
     ]
    }
   ],
   "source": [
    "# Value counts\n",
    "print(rooms['room_type'].value_counts(dropna=False))\n",
    "\n",
    "# Fix strings in 'room_type'\n",
    "rooms['room_type'] = rooms['room_type'].str.lower() \n",
    "print(rooms['room_type'].value_counts(dropna=False))"
   ]
  },
  {
   "cell_type": "code",
   "execution_count": 6,
   "id": "ee4b6c62-1cf4-4d9d-b27e-de20cacd9ef0",
   "metadata": {
    "executionCancelledAt": null,
    "executionTime": 56,
    "lastExecutedAt": 1743112612976,
    "lastExecutedByKernel": "2100ad76-c5d1-418d-ba22-65c06edb85e6",
    "lastScheduledRunId": null,
    "lastSuccessfullyExecutedCode": "# How many of the listings are private rooms?\nnum_of_priv_rooms = rooms['room_type'][rooms['room_type'] == 'private room'].shape[0]\nprint(f\"The number of listings that are private rooms is: {num_of_priv_rooms}\")",
    "outputsMetadata": {
     "0": {
      "height": 38,
      "type": "stream"
     }
    }
   },
   "outputs": [
    {
     "name": "stdout",
     "output_type": "stream",
     "text": [
      "The number of listings that are private rooms is: 11356\n"
     ]
    }
   ],
   "source": [
    "# How many of the listings are private rooms?\n",
    "num_of_priv_rooms = rooms['room_type'][rooms['room_type'] == 'private room'].shape[0]\n",
    "print(f\"The number of listings that are private rooms is: {num_of_priv_rooms}\")"
   ]
  },
  {
   "cell_type": "code",
   "execution_count": 7,
   "id": "a614e9d7-2960-47c8-9343-d7485fa70ae6",
   "metadata": {
    "executionCancelledAt": null,
    "executionTime": 48,
    "lastExecutedAt": 1743112613024,
    "lastExecutedByKernel": "2100ad76-c5d1-418d-ba22-65c06edb85e6",
    "lastScheduledRunId": null,
    "lastSuccessfullyExecutedCode": "# Import prices\nprices = pd.read_csv('data/airbnb_price.csv')\nprices.head()\n\n# Inspect info\nprint(prices.info())",
    "outputsMetadata": {
     "0": {
      "height": 248,
      "type": "stream"
     }
    }
   },
   "outputs": [
    {
     "name": "stdout",
     "output_type": "stream",
     "text": [
      "<class 'pandas.core.frame.DataFrame'>\n",
      "RangeIndex: 25209 entries, 0 to 25208\n",
      "Data columns (total 3 columns):\n",
      " #   Column       Non-Null Count  Dtype \n",
      "---  ------       --------------  ----- \n",
      " 0   listing_id   25209 non-null  int64 \n",
      " 1   price        25209 non-null  object\n",
      " 2   nbhood_full  25209 non-null  object\n",
      "dtypes: int64(1), object(2)\n",
      "memory usage: 591.0+ KB\n",
      "None\n"
     ]
    }
   ],
   "source": [
    "# Import prices\n",
    "prices = pd.read_csv('data/airbnb_price.csv')\n",
    "prices.head()\n",
    "\n",
    "# Inspect info\n",
    "print(prices.info())"
   ]
  },
  {
   "cell_type": "code",
   "execution_count": 8,
   "id": "e6e97136-ffc5-41ca-a80c-ac9b914e0485",
   "metadata": {
    "collapsed": false,
    "executionCancelledAt": null,
    "executionTime": 53,
    "jupyter": {
     "outputs_hidden": false,
     "source_hidden": false
    },
    "lastExecutedAt": 1743112613077,
    "lastExecutedByKernel": "2100ad76-c5d1-418d-ba22-65c06edb85e6",
    "lastScheduledRunId": null,
    "lastSuccessfullyExecutedCode": "# Check unique values\nprint(prices['price'].unique())",
    "outputsMetadata": {
     "0": {
      "height": 566,
      "type": "stream"
     }
    }
   },
   "outputs": [
    {
     "name": "stdout",
     "output_type": "stream",
     "text": [
      "['225 dollars' '89 dollars' '200 dollars' '79 dollars' '150 dollars'\n",
      " '135 dollars' '85 dollars' '140 dollars' '215 dollars' '99 dollars'\n",
      " '130 dollars' '80 dollars' '110 dollars' '120 dollars' '60 dollars'\n",
      " '44 dollars' '180 dollars' '50 dollars' '52 dollars' '55 dollars'\n",
      " '70 dollars' '40 dollars' '68 dollars' '151 dollars' '228 dollars'\n",
      " '144 dollars' '69 dollars' '49 dollars' '250 dollars' '275 dollars'\n",
      " '51 dollars' '65 dollars' '105 dollars' '190 dollars' '95 dollars'\n",
      " '145 dollars' '285 dollars' '94 dollars' '131 dollars' '98 dollars'\n",
      " '175 dollars' '500 dollars' '101 dollars' '125 dollars' '100 dollars'\n",
      " '59 dollars' '325 dollars' '235 dollars' '170 dollars' '185 dollars'\n",
      " '115 dollars' '77 dollars' '76 dollars' '160 dollars' '195 dollars'\n",
      " '156 dollars' '219 dollars' '165 dollars' '196 dollars' '350 dollars'\n",
      " '90 dollars' '75 dollars' '299 dollars' '83 dollars' '123 dollars'\n",
      " '265 dollars' '249 dollars' '121 dollars' '45 dollars' '71 dollars'\n",
      " '199 dollars' '64 dollars' '159 dollars' '189 dollars' '239 dollars'\n",
      " '305 dollars' '155 dollars' '92 dollars' '36 dollars' '37 dollars'\n",
      " '205 dollars' '39 dollars' '390 dollars' '129 dollars' '212 dollars'\n",
      " '124 dollars' '122 dollars' '109 dollars' '575 dollars' '169 dollars'\n",
      " '179 dollars' '349 dollars' '139 dollars' '67 dollars' '211 dollars'\n",
      " '290 dollars' '395 dollars' '97 dollars' '259 dollars' '295 dollars'\n",
      " '451 dollars' '300 dollars' '255 dollars' '72 dollars' '88 dollars'\n",
      " '42 dollars' '198 dollars' '46 dollars' '33 dollars' '91 dollars'\n",
      " '400 dollars' '429 dollars' '43 dollars' '149 dollars' '248 dollars'\n",
      " '41 dollars' '230 dollars' '146 dollars' '116 dollars' '220 dollars'\n",
      " '288 dollars' '438 dollars' '279 dollars' '137 dollars' '226 dollars'\n",
      " '154 dollars' '700 dollars' '850 dollars' '54 dollars' '495 dollars'\n",
      " '760 dollars' '153 dollars' '73 dollars' '167 dollars' '96 dollars'\n",
      " '34 dollars' '93 dollars' '402 dollars' '800 dollars' '240 dollars'\n",
      " '209 dollars' '157 dollars' '86 dollars' '106 dollars' '87 dollars'\n",
      " '56 dollars' '549 dollars' '20 dollars' '104 dollars' '298 dollars'\n",
      " '147 dollars' '269 dollars' '229 dollars' '119 dollars' '138 dollars'\n",
      " '208 dollars' '58 dollars' '142 dollars' '174 dollars' '210 dollars'\n",
      " '311 dollars' '82 dollars' '450 dollars' '328 dollars' '102 dollars'\n",
      " '385 dollars' '499 dollars' '107 dollars' '118 dollars' '280 dollars'\n",
      " '133 dollars' '128 dollars' '35 dollars' '136 dollars' '148 dollars'\n",
      " '433 dollars' '61 dollars' '234 dollars' '595 dollars' '197 dollars'\n",
      " '127 dollars' '113 dollars' '108 dollars' '141 dollars' '62 dollars'\n",
      " '550 dollars' '380 dollars' '84 dollars' '78 dollars' '900 dollars'\n",
      " '399 dollars' '330 dollars' '375 dollars' '168 dollars' '66 dollars'\n",
      " '103 dollars' '312 dollars' '38 dollars' '158 dollars' '465 dollars'\n",
      " '81 dollars' '57 dollars' '260 dollars' '289 dollars' '176 dollars'\n",
      " '30 dollars' '339 dollars' '191 dollars' '2500 dollars' '63 dollars'\n",
      " '53 dollars' '134 dollars' '420 dollars' '187 dollars' '950 dollars'\n",
      " '1000 dollars' '1395 dollars' '425 dollars' '47 dollars' '182 dollars'\n",
      " '650 dollars' '48 dollars' '152 dollars' '117 dollars' '181 dollars'\n",
      " '188 dollars' '111 dollars' '162 dollars' '171 dollars' '112 dollars'\n",
      " '345 dollars' '224 dollars' '194 dollars' '31 dollars' '74 dollars'\n",
      " '439 dollars' '555 dollars' '29 dollars' '245 dollars' '455 dollars'\n",
      " '193 dollars' '201 dollars' '525 dollars' '600 dollars' '173 dollars'\n",
      " '32 dollars' '750 dollars' '480 dollars' '164 dollars' '177 dollars'\n",
      " '320 dollars' '340 dollars' '221 dollars' '1485 dollars' '25 dollars'\n",
      " '218 dollars' '430 dollars' '126 dollars' '270 dollars' '16 dollars'\n",
      " '166 dollars' '785 dollars' '316 dollars' '318 dollars' '273 dollars'\n",
      " '365 dollars' '184 dollars' '192 dollars' '216 dollars' '172 dollars'\n",
      " '246 dollars' '383 dollars' '419 dollars' '1050 dollars' '178 dollars'\n",
      " '310 dollars' '985 dollars' '360 dollars' '699 dollars' '163 dollars'\n",
      " '1500 dollars' '272 dollars' '895 dollars' '258 dollars' '254 dollars'\n",
      " '795 dollars' '995 dollars' '308 dollars' '27 dollars' '825 dollars'\n",
      " '524 dollars' '475 dollars' '244 dollars' '114 dollars' '132 dollars'\n",
      " '1200 dollars' '341 dollars' '369 dollars' '322 dollars' '276 dollars'\n",
      " '247 dollars' '379 dollars' '440 dollars' '888 dollars' '2000 dollars'\n",
      " '222 dollars' '243 dollars' '398 dollars' '355 dollars' '370 dollars'\n",
      " '22 dollars' '238 dollars' '1195 dollars' '999 dollars' '469 dollars'\n",
      " '28 dollars' '207 dollars' '410 dollars' '261 dollars' '899 dollars'\n",
      " '161 dollars' '296 dollars' '531 dollars' '214 dollars' '335 dollars'\n",
      " '186 dollars' '799 dollars' '206 dollars' '26 dollars' '485 dollars'\n",
      " '315 dollars' '143 dollars' '204 dollars' '1731 dollars' '319 dollars'\n",
      " '283 dollars' '1100 dollars' '814 dollars' '690 dollars' '619 dollars'\n",
      " '625 dollars' '333 dollars' '359 dollars' '436 dollars' '274 dollars'\n",
      " '376 dollars' '329 dollars' '202 dollars' '408 dollars' '479 dollars'\n",
      " '294 dollars' '252 dollars' '672 dollars' '415 dollars' '584 dollars'\n",
      " '183 dollars' '449 dollars' '1020 dollars' '19 dollars' '232 dollars'\n",
      " '11 dollars' '233 dollars' '459 dollars' '489 dollars' '545 dollars'\n",
      " '2250 dollars' '227 dollars' '484 dollars' '1475 dollars' '278 dollars'\n",
      " '10 dollars' '615 dollars' '287 dollars' '1067 dollars' '578 dollars'\n",
      " '236 dollars' '352 dollars' '256 dollars' '389 dollars' '264 dollars'\n",
      " '789 dollars' '585 dollars' '1795 dollars' '268 dollars' '1095 dollars'\n",
      " '217 dollars' '0 dollars' '409 dollars' '496 dollars' '422 dollars'\n",
      " '435 dollars' '1177 dollars' '790 dollars' '378 dollars' '766 dollars'\n",
      " '231 dollars' '840 dollars' '540 dollars' '237 dollars' '589 dollars'\n",
      " '949 dollars' '358 dollars' '2200 dollars' '1066 dollars' '12 dollars'\n",
      " '460 dollars' '487 dollars' '647 dollars' '277 dollars' '3000 dollars'\n",
      " '23 dollars' '490 dollars' '416 dollars' '257 dollars' '374 dollars'\n",
      " '2990 dollars' '620 dollars' '649 dollars' '412 dollars' '21 dollars'\n",
      " '975 dollars' '599 dollars' '344 dollars' '347 dollars' '393 dollars'\n",
      " '745 dollars' '309 dollars' '15 dollars' '1250 dollars' '737 dollars'\n",
      " '689 dollars' '394 dollars' '639 dollars' '530 dollars' '848 dollars'\n",
      " '590 dollars' '403 dollars' '471 dollars' '478 dollars' '24 dollars'\n",
      " '860 dollars' '1115 dollars' '520 dollars' '692 dollars' '241 dollars'\n",
      " '267 dollars' '5000 dollars' '714 dollars' '675 dollars' '266 dollars'\n",
      " '303 dollars' '670 dollars' '418 dollars' '452 dollars' '343 dollars'\n",
      " '334 dollars' '321 dollars' '282 dollars' '332 dollars' '314 dollars'\n",
      " '453 dollars' '313 dollars' '805 dollars' '443 dollars' '392 dollars'\n",
      " '284 dollars' '432 dollars' '444 dollars' '262 dollars' '263 dollars'\n",
      " '1075 dollars' '820 dollars' '1750 dollars' '251 dollars' '1299 dollars'\n",
      " '1295 dollars' '519 dollars' '890 dollars' '404 dollars' '503 dollars'\n",
      " '472 dollars' '454 dollars' '203 dollars' '377 dollars' '431 dollars'\n",
      " '505 dollars' '242 dollars' '468 dollars' '396 dollars' '498 dollars'\n",
      " '223 dollars' '612 dollars' '488 dollars' '1497 dollars' '515 dollars'\n",
      " '990 dollars' '388 dollars' '407 dollars' '506 dollars' '324 dollars'\n",
      " '304 dollars' '3613 dollars' '2600 dollars' '293 dollars' '336 dollars'\n",
      " '560 dollars' '5100 dollars' '898 dollars' '327 dollars' '470 dollars'\n",
      " '442 dollars' '306 dollars' '474 dollars' '616 dollars' '945 dollars'\n",
      " '539 dollars' '577 dollars' '18 dollars' '367 dollars' '583 dollars'\n",
      " '659 dollars' '13 dollars' '7500 dollars' '447 dollars' '695 dollars'\n",
      " '1099 dollars' '428 dollars' '445 dollars' '348 dollars' '2995 dollars'\n",
      " '342 dollars' '843 dollars' '213 dollars' '417 dollars' '1400 dollars'\n",
      " '323 dollars']\n"
     ]
    }
   ],
   "source": [
    "# Check unique values\n",
    "print(prices['price'].unique())"
   ]
  },
  {
   "cell_type": "code",
   "execution_count": 9,
   "id": "0014196f-9003-410e-848e-c24071db0241",
   "metadata": {
    "executionCancelledAt": null,
    "executionTime": 63,
    "lastExecutedAt": 1743112613140,
    "lastExecutedByKernel": "2100ad76-c5d1-418d-ba22-65c06edb85e6",
    "lastScheduledRunId": null,
    "lastSuccessfullyExecutedCode": "# Strip 'dollars' from price data\nprices['price'] = prices['price'].str.strip('dollars')\n\n# Convert to 'int'\nprices['price'] = prices['price'].astype('int')"
   },
   "outputs": [],
   "source": [
    "# Strip 'dollars' from price data\n",
    "prices['price'] = prices['price'].str.strip('dollars')\n",
    "\n",
    "# Convert to 'int'\n",
    "prices['price'] = prices['price'].astype('int')"
   ]
  },
  {
   "cell_type": "code",
   "execution_count": 10,
   "id": "c7a643bc-c720-4b44-aa1a-15b1c83324ac",
   "metadata": {
    "executionCancelledAt": null,
    "executionTime": 51,
    "lastExecutedAt": 1743112613192,
    "lastExecutedByKernel": "2100ad76-c5d1-418d-ba22-65c06edb85e6",
    "lastScheduledRunId": null,
    "lastSuccessfullyExecutedCode": "# What is the average listing price?\navg_price = prices['price'].mean().round(2)\nprint(f\"The avergea listing price is {avg_price}\")",
    "outputsMetadata": {
     "0": {
      "height": 38,
      "type": "stream"
     }
    }
   },
   "outputs": [
    {
     "name": "stdout",
     "output_type": "stream",
     "text": [
      "The avergea listing price is 141.78\n"
     ]
    }
   ],
   "source": [
    "# What is the average listing price?\n",
    "avg_price = prices['price'].mean().round(2)\n",
    "print(f\"The avergea listing price is {avg_price}\")"
   ]
  },
  {
   "cell_type": "code",
   "execution_count": 11,
   "id": "61abd135-8eca-4715-8454-55eb8730d40b",
   "metadata": {
    "executionCancelledAt": null,
    "executionTime": null,
    "lastExecutedAt": null,
    "lastExecutedByKernel": null,
    "lastScheduledRunId": null,
    "lastSuccessfullyExecutedCode": null,
    "outputsMetadata": {
     "0": {
      "height": 59,
      "type": "stream"
     }
    }
   },
   "outputs": [
    {
     "name": "stdout",
     "output_type": "stream",
     "text": [
      "  first_reviewed last_reviewed  nb_private_rooms  avg_price\n",
      "0     2019-01-01    2019-07-09             11356     141.78\n"
     ]
    }
   ],
   "source": [
    "# Create review_dates \n",
    "answers = {'first_reviewed': earliest,\n",
    "          'last_reviewed': most_recent,\n",
    "          'nb_private_rooms': num_of_priv_rooms,\n",
    "          'avg_price':avg_price}\n",
    "review_dates = pd.DataFrame([answers])\n",
    "\n",
    "print(review_dates)"
   ]
  }
 ],
 "metadata": {
  "colab": {
   "name": "Welcome to DataCamp Workspaces.ipynb",
   "provenance": []
  },
  "editor": "DataLab",
  "kernelspec": {
   "display_name": "credit_card_kernel",
   "language": "python",
   "name": "credit_card_kernel"
  },
  "language_info": {
   "codemirror_mode": {
    "name": "ipython",
    "version": 3
   },
   "file_extension": ".py",
   "mimetype": "text/x-python",
   "name": "python",
   "nbconvert_exporter": "python",
   "pygments_lexer": "ipython3",
   "version": "3.9.5"
  }
 },
 "nbformat": 4,
 "nbformat_minor": 5
}
